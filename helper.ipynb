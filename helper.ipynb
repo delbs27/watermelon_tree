{
 "cells": [
  {
   "cell_type": "code",
   "execution_count": 1,
   "metadata": {},
   "outputs": [],
   "source": [
    "def attacks_cleaner(DF, path_to_labels):\n",
    "    X_df = DF.drop(['Timestamp','Label'],axis=1)\n",
    "    Y_df = DF.Label\n",
    "    \n",
    "    types_list = labels_reader(path_to_labels)\n",
    "    \n",
    "    for column in X_df.columns:\n",
    "        X_df[column] = np.where(X_df[column] == f'{column}', np.nan, X_df[column])\n",
    "        try:\n",
    "            X_df[column] = np.where(np.isinf(X_df[column]),np.nan, X_df[column])\n",
    "        except:\n",
    "            X_df[column] = list(map(lambda x: float(x), X_df[column]))\n",
    "            X_df[column] = np.where(np.isinf(X_df[column]),np.nan, X_df[column])\n",
    "    \n",
    "    for tup in types_list:\n",
    "        Y_df = np.where(Y_df == tup[1],tup[0], Y_df)\n",
    "    \n",
    "    Y_df = np.where(Y_df == 'Label', np.nan, Y_df)\n",
    "        \n",
    "    X_df = my_imputer(X_df)\n",
    "    Y_df = my_imputer(Y_df)\n",
    "    \n",
    "    return X_df, Y_df"
   ]
  },
  {
   "cell_type": "code",
   "execution_count": 2,
   "metadata": {},
   "outputs": [],
   "source": [
    "def labels_reader(path_to_labels):\n",
    "    with open(f'{path_to_labels}', 'r') as file:\n",
    "        lines = file.readlines()\n",
    "    lines = [item.strip() for item in lines if item.strip() != 'Label']\n",
    "    lines = list(enumerate(sorted(lines)))\n",
    "    \n",
    "    return lines"
   ]
  },
  {
   "cell_type": "code",
   "execution_count": null,
   "metadata": {},
   "outputs": [],
   "source": [
    "def my_imputer(df, simple = True):\n",
    "    if isinstance(df, pd.DataFrame):\n",
    "        imp_mean = SimpleImputer(missing_values = np.nan,\n",
    "                                strategy = 'mean')\n",
    "        for column in df.columns:\n",
    "            arr = np.array(df[column]).reshape(-1,1)\n",
    "            df[column] = imp_mean.fit_transform(arr)\n",
    "        \n",
    "        return df\n",
    "    \n",
    "    else:\n",
    "        imp_class = SimpleImputer(missing_values = np.nan,\n",
    "                                strategy = 'most_frequent')\n",
    "        df = imp_class.fit_transform(np.array(df).reshape(-1,1))\n",
    "\n",
    "        return df"
   ]
  }
 ],
 "metadata": {
  "kernelspec": {
   "display_name": "Python 3",
   "language": "python",
   "name": "python3"
  },
  "language_info": {
   "codemirror_mode": {
    "name": "ipython",
    "version": 3
   },
   "file_extension": ".py",
   "mimetype": "text/x-python",
   "name": "python",
   "nbconvert_exporter": "python",
   "pygments_lexer": "ipython3",
   "version": "3.7.3"
  }
 },
 "nbformat": 4,
 "nbformat_minor": 4
}
