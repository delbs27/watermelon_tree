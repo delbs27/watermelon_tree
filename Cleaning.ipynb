{
 "cells": [
  {
   "cell_type": "code",
   "execution_count": 44,
   "metadata": {},
   "outputs": [],
   "source": [
    "import pandas as pd\n",
    "import numpy as np\n",
    "import matplotlib.pyplot as plt\n",
    "from sklearn import ensemble\n",
    "from sklearn.metrics import accuracy_score\n",
    "import sklearn.model_selection as ms\n",
    "from sklearn.impute import SimpleImputer"
   ]
  },
  {
   "cell_type": "code",
   "execution_count": 35,
   "metadata": {},
   "outputs": [
    {
     "name": "stderr",
     "output_type": "stream",
     "text": [
      "/Users/mdrozdov/anaconda3/lib/python3.7/site-packages/IPython/core/interactiveshell.py:3057: DtypeWarning: Columns (0,1,3,4,5,6,7,8,9,10,11,12,13,14,15,16,18,19,20,21,22,23,24,25,26,27,28,29,30,31,32,33,34,35,36,37,38,39,40,41,42,43,44,45,46,47,48,49,50,51,52,53,54,55,56,57,58,59,60,61,62,63,64,65,66,67,68,69,70,71,72,73,74,75,76,77,78) have mixed types. Specify dtype option on import or set low_memory=False.\n",
      "  interactivity=interactivity, compiler=compiler, result=result)\n"
     ]
    }
   ],
   "source": [
    "attacks1 = pd.read_csv('/Users/mdrozdov/Documents/watermelon_tree/data/attacks5.csv')"
   ]
  },
  {
   "cell_type": "code",
   "execution_count": 32,
   "metadata": {},
   "outputs": [
    {
     "data": {
      "text/plain": [
       "Benign           238037\n",
       "Infilteration     93063\n",
       "Label                25\n",
       "Name: Label, dtype: int64"
      ]
     },
     "execution_count": 32,
     "metadata": {},
     "output_type": "execute_result"
    }
   ],
   "source": [
    "attacks1.Label.value_counts()"
   ]
  },
  {
   "cell_type": "code",
   "execution_count": 5,
   "metadata": {},
   "outputs": [],
   "source": [
    "def labels_reader(path_to_labels):\n",
    "    with open(f'{path_to_labels}', 'r') as file:\n",
    "        lines = file.readlines()\n",
    "    lines = [item.strip() for item in lines if item.strip() != 'Label']\n",
    "    lines = list(enumerate(sorted(lines)))\n",
    "    \n",
    "    return lines"
   ]
  },
  {
   "cell_type": "code",
   "execution_count": 21,
   "metadata": {},
   "outputs": [],
   "source": [
    "def my_imputer(df):\n",
    "    if isinstance(df, pd.DataFrame):\n",
    "        imp_mean = SimpleImputer(missing_values = np.nan,\n",
    "                                strategy = 'mean')\n",
    "        for column in df.columns:\n",
    "            arr = np.array(df[column]).reshape(-1,1)\n",
    "            df[column] = imp_mean.fit_transform(arr)\n",
    "        \n",
    "        return df\n",
    "    \n",
    "    else:\n",
    "        imp_class = SimpleImputer(missing_values = np.nan,\n",
    "                                strategy = 'most_frequent')\n",
    "        df = imp_class.fit_transform(np.array(df).reshape(-1,1))\n",
    "\n",
    "        return df"
   ]
  },
  {
   "cell_type": "code",
   "execution_count": 36,
   "metadata": {},
   "outputs": [],
   "source": [
    "def attacks_cleaner(DF, path_to_labels):\n",
    "    X_df = DF.drop(['Timestamp','Label'],axis=1)\n",
    "    Y_df = DF.Label\n",
    "    \n",
    "    types_list = labels_reader(path_to_labels)\n",
    "    \n",
    "    for column in X_df.columns:\n",
    "        X_df[column] = np.where(X_df[column] == f'{column}', np.nan, X_df[column])\n",
    "        try:\n",
    "            X_df[column] = np.where(np.isinf(X_df[column]),np.nan, X_df[column])\n",
    "        except:\n",
    "            X_df[column] = list(map(lambda x: float(x), X_df[column]))\n",
    "            X_df[column] = np.where(np.isinf(X_df[column]),np.nan, X_df[column])\n",
    "    \n",
    "    for tup in types_list:\n",
    "        Y_df = np.where(Y_df == tup[1],tup[0], Y_df)\n",
    "    \n",
    "    Y_df = np.where(Y_df == 'Label', np.nan, Y_df)\n",
    "        \n",
    "    X_df = my_imputer(X_df)\n",
    "    Y_df = my_imputer(Y_df)\n",
    "    \n",
    "    return X_df, Y_df"
   ]
  },
  {
   "cell_type": "code",
   "execution_count": 38,
   "metadata": {},
   "outputs": [],
   "source": [
    "X, Y = attacks_cleaner(attacks1,'./labels.txt')"
   ]
  },
  {
   "cell_type": "code",
   "execution_count": 65,
   "metadata": {},
   "outputs": [],
   "source": [
    "Y = np.where(Y==0,0,1)\n",
    "Y = Y.reshape(Y.shape[0],)"
   ]
  },
  {
   "cell_type": "code",
   "execution_count": 72,
   "metadata": {},
   "outputs": [],
   "source": [
    "x_train, x_test, y_train, y_test = ms.train_test_split(X,Y, test_size = 0.8, shuffle = True)"
   ]
  },
  {
   "cell_type": "code",
   "execution_count": 73,
   "metadata": {},
   "outputs": [],
   "source": [
    "rf = ensemble.RandomForestClassifier(oob_score = True,\n",
    "                                    n_jobs = -1,\n",
    "                                    n_estimators = 100)"
   ]
  },
  {
   "cell_type": "code",
   "execution_count": 74,
   "metadata": {},
   "outputs": [
    {
     "data": {
      "text/plain": [
       "RandomForestClassifier(bootstrap=True, class_weight=None, criterion='gini',\n",
       "                       max_depth=None, max_features='auto', max_leaf_nodes=None,\n",
       "                       min_impurity_decrease=0.0, min_impurity_split=None,\n",
       "                       min_samples_leaf=1, min_samples_split=2,\n",
       "                       min_weight_fraction_leaf=0.0, n_estimators=100,\n",
       "                       n_jobs=-1, oob_score=True, random_state=None, verbose=0,\n",
       "                       warm_start=False)"
      ]
     },
     "execution_count": 74,
     "metadata": {},
     "output_type": "execute_result"
    }
   ],
   "source": [
    "rf.fit(x_train, y_train)"
   ]
  },
  {
   "cell_type": "code",
   "execution_count": 80,
   "metadata": {},
   "outputs": [
    {
     "data": {
      "text/plain": [
       "0.7411287278218196"
      ]
     },
     "execution_count": 80,
     "metadata": {},
     "output_type": "execute_result"
    }
   ],
   "source": [
    "rf.score(x_test,y_test)"
   ]
  },
  {
   "cell_type": "code",
   "execution_count": 102,
   "metadata": {},
   "outputs": [
    {
     "data": {
      "text/plain": [
       "<BarContainer object of 78 artists>"
      ]
     },
     "execution_count": 102,
     "metadata": {},
     "output_type": "execute_result"
    },
    {
     "data": {
      "image/png": "[encoded data removed]",
      "text/plain": [
       "<Figure size 1080x1080 with 1 Axes>"
      ]
     },
     "metadata": {
      "needs_background": "light"
     },
     "output_type": "display_data"
    }
   ],
   "source": [
    "features = sorted(list(zip(x_train.columns,rf.feature_importances_)),key = lambda x: x[1], reverse = True)\n",
    "\n",
    "plt.figure(figsize=(15,15))\n",
    "plt.bar(list(zip(*features))[0],list(zip(*features))[1])"
   ]
  },
  {
   "cell_type": "code",
   "execution_count": 81,
   "metadata": {},
   "outputs": [
    {
     "data": {
      "text/plain": [
       "array([0.10595827, 0.00017337, 0.05362096, 0.00461813, 0.00237829,\n",
       "       0.00840956, 0.00689573, 0.00806428, 0.00360565, 0.00871629,\n",
       "       0.00409745, 0.00657677, 0.00432142, 0.00726066, 0.00381564,\n",
       "       0.04314768, 0.05481172, 0.0581712 , 0.02024392, 0.05131482,\n",
       "       0.05498641, 0.02013128, 0.02189868, 0.01629992, 0.0216281 ,\n",
       "       0.02351788, 0.01040837, 0.01176082, 0.01122319, 0.01168497,\n",
       "       0.01234868, 0.0006988 , 0.        , 0.00063268, 0.        ,\n",
       "       0.00745123, 0.00414391, 0.05290224, 0.0476783 , 0.00360199,\n",
       "       0.00940432, 0.01222144, 0.00870006, 0.00823136, 0.00048319,\n",
       "       0.00052392, 0.00119154, 0.00706984, 0.00289758, 0.00123489,\n",
       "       0.00053703, 0.00117358, 0.00260839, 0.01057715, 0.009791  ,\n",
       "       0.00770122, 0.        , 0.        , 0.        , 0.        ,\n",
       "       0.        , 0.        , 0.00505677, 0.00787006, 0.00279493,\n",
       "       0.00712991, 0.03649808, 0.01158182, 0.00128657, 0.02196942,\n",
       "       0.00467682, 0.00297433, 0.00473315, 0.0046729 , 0.00378573,\n",
       "       0.00410952, 0.00280219, 0.00451201])"
      ]
     },
     "execution_count": 81,
     "metadata": {},
     "output_type": "execute_result"
    }
   ],
   "source": [
    "rf.feature_importances_"
   ]
  }
 ],
 "metadata": {
  "kernelspec": {
   "display_name": "Python 3",
   "language": "python",
   "name": "python3"
  },
  "language_info": {
   "codemirror_mode": {
    "name": "ipython",
    "version": 3
   },
   "file_extension": ".py",
   "mimetype": "text/x-python",
   "name": "python",
   "nbconvert_exporter": "python",
   "pygments_lexer": "ipython3",
   "version": "3.7.3"
  }
 },
 "nbformat": 4,
 "nbformat_minor": 4
}
